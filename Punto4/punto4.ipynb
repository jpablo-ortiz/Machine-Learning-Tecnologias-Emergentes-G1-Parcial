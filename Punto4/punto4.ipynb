{
 "cells": [
  {
   "cell_type": "markdown",
   "metadata": {},
   "source": [
    "# Imports"
   ]
  },
  {
   "cell_type": "code",
   "execution_count": null,
   "metadata": {},
   "outputs": [],
   "source": [
    "import pandas as pd\n",
    "import numpy as np\n",
    "import matplotlib.pyplot as plt\n",
    "import tensorflow as tf\n",
    "import os"
   ]
  },
  {
   "cell_type": "code",
   "execution_count": null,
   "metadata": {},
   "outputs": [],
   "source": [
    "base_dir = r'./data/raw'\n",
    "folders = os.listdir(base_dir)\n",
    "print(folders)"
   ]
  },
  {
   "cell_type": "code",
   "execution_count": null,
   "metadata": {},
   "outputs": [],
   "source": [
    "from tensorflow.keras.preprocessing.image import ImageDataGenerator\n",
    "#ImageDataGenerator = tf.keras.preprocessing.image.ImageDataGenerator\n",
    "\n",
    "datagenerator = ImageDataGenerator(rescale=1/255, validation_split=0.2)\n",
    "train_generator = datagenerator.flow_from_directory(\n",
    "    base_dir,\n",
    "    target_size=(250 , 250),\n",
    "    batch_size=32,\n",
    "    subset='training',\n",
    ")\n",
    "\n",
    "test_generator = datagenerator.flow_from_directory(\n",
    "    base_dir,\n",
    "    target_size=(250 , 250),\n",
    "    batch_size=32,\n",
    "    subset='validation',\n",
    ")"
   ]
  },
  {
   "cell_type": "code",
   "execution_count": null,
   "metadata": {},
   "outputs": [],
   "source": [
    "from tensorflow.python.keras.callbacks import ModelCheckpoint, EarlyStopping, ReduceLROnPlateau\n",
    "\n",
    "earlystop = EarlyStopping(patience=3)\n",
    "learning_rate_reduction = ReduceLROnPlateau(\n",
    "    monitor='val_acc',\n",
    "    patience= 2,\n",
    "    verbose=1,\n",
    ")\n",
    "\n",
    "callbacks = [earlystop, learning_rate_reduction]"
   ]
  },
  {
   "cell_type": "code",
   "execution_count": null,
   "metadata": {},
   "outputs": [],
   "source": [
    "from tensorflow.keras import Input\n",
    "from tensorflow.keras.models import Model\n",
    "from tensorflow.keras.layers import Dense,Flatten,MaxPooling2D,Conv2D,Dropout\n",
    "\n",
    "inputs = Input(shape=(250, 250, 3))\n",
    "\n",
    "x = Conv2D(32, (5,5), input_shape = (250 , 250 , 3), activation = 'relu')(inputs)\n",
    "x = MaxPooling2D(3,3)(x)\n",
    "x = Conv2D(64, (5,5) , activation = 'relu')(x)\n",
    "x = MaxPooling2D((3,3))(x)\n",
    "x = Conv2D(128 , (5,5) , activation = 'relu')(x)\n",
    "x = MaxPooling2D(3,3)(x)\n",
    "x = Flatten()(x)\n",
    "x = Dropout(0.5, seed = 5)(x)\n",
    "x = Dense(128 , activation = 'relu')(x)\n",
    "\n",
    "outputs = Dense(4, activation = 'softmax')(x)\n",
    "\n",
    "model:Model = Model(inputs=inputs, outputs=outputs)"
   ]
  },
  {
   "cell_type": "code",
   "execution_count": null,
   "metadata": {},
   "outputs": [],
   "source": [
    "model.compile(optimizer=\"Adam\", loss=\"mean_squared_error\", metrics=[\"accuracy\"])\n",
    "model.fit(\n",
    "    train_generator, \n",
    "    epochs = 10,\n",
    "    steps_per_epoch = train_generator.n // train_generator.batch_size,\n",
    "    validation_data = test_generator,\n",
    "    validation_steps = test_generator.n // test_generator.batch_size,\n",
    "    callbacks= callbacks\n",
    ")"
   ]
  },
  {
   "cell_type": "code",
   "execution_count": null,
   "metadata": {},
   "outputs": [],
   "source": [
    "losses = pd.DataFrame(model.history.history)\n",
    "losses[['loss','val_loss']].plot(title='Model')"
   ]
  },
  {
   "cell_type": "code",
   "execution_count": null,
   "metadata": {},
   "outputs": [],
   "source": [
    "accurracies = pd.DataFrame(model.history.history)\n",
    "accurracies[['accuracy','val_accuracy']].plot(title='Model')"
   ]
  }
 ],
 "metadata": {
  "interpreter": {
   "hash": "26c46c529b527458d825a9d7dbc9f56fce2fa9c2b20812de110d46f2b376846d"
  },
  "kernelspec": {
   "display_name": "Python 3.10.0 64-bit",
   "language": "python",
   "name": "python3"
  },
  "language_info": {
   "name": "python",
   "version": "3.10.0"
  },
  "orig_nbformat": 4
 },
 "nbformat": 4,
 "nbformat_minor": 2
}
