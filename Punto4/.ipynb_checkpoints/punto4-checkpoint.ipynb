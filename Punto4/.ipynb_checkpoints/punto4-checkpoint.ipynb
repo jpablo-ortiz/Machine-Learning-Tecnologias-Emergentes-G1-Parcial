{
 "cells": [
  {
   "cell_type": "markdown",
   "metadata": {},
   "source": [
    "# Imports"
   ]
  },
  {
   "cell_type": "code",
   "execution_count": 2,
   "metadata": {
    "execution": {
     "iopub.execute_input": "2022-05-09T18:16:52.106775Z",
     "iopub.status.busy": "2022-05-09T18:16:52.106410Z",
     "iopub.status.idle": "2022-05-09T18:16:56.785963Z",
     "shell.execute_reply": "2022-05-09T18:16:56.785224Z",
     "shell.execute_reply.started": "2022-05-09T18:16:52.106684Z"
    }
   },
   "outputs": [],
   "source": [
    "import pandas as pd\n",
    "import numpy as np\n",
    "import matplotlib.pyplot as plt\n",
    "import tensorflow as tf\n",
    "import os"
   ]
  },
  {
   "cell_type": "markdown",
   "metadata": {},
   "source": [
    "# Datos"
   ]
  },
  {
   "cell_type": "code",
   "execution_count": 3,
   "metadata": {
    "execution": {
     "iopub.execute_input": "2022-05-09T18:16:56.788531Z",
     "iopub.status.busy": "2022-05-09T18:16:56.788048Z",
     "iopub.status.idle": "2022-05-09T18:16:56.802097Z",
     "shell.execute_reply": "2022-05-09T18:16:56.801392Z",
     "shell.execute_reply.started": "2022-05-09T18:16:56.788492Z"
    }
   },
   "outputs": [
    {
     "ename": "FileNotFoundError",
     "evalue": "[WinError 3] El sistema no puede encontrar la ruta especificada: '../input/multiclass-weather-dataset/Multi-class Weather Dataset'",
     "output_type": "error",
     "traceback": [
      "\u001b[1;31m---------------------------------------------------------------------------\u001b[0m",
      "\u001b[1;31mFileNotFoundError\u001b[0m                         Traceback (most recent call last)",
      "\u001b[1;32m~\\AppData\\Local\\Temp\\ipykernel_18136\\1005550154.py\u001b[0m in \u001b[0;36m<module>\u001b[1;34m\u001b[0m\n\u001b[0;32m      1\u001b[0m \u001b[0mbase_dir\u001b[0m \u001b[1;33m=\u001b[0m \u001b[1;34mr'../input/multiclass-weather-dataset/Multi-class Weather Dataset'\u001b[0m\u001b[1;33m\u001b[0m\u001b[1;33m\u001b[0m\u001b[0m\n\u001b[1;32m----> 2\u001b[1;33m \u001b[0mfolders\u001b[0m \u001b[1;33m=\u001b[0m \u001b[0mos\u001b[0m\u001b[1;33m.\u001b[0m\u001b[0mlistdir\u001b[0m\u001b[1;33m(\u001b[0m\u001b[0mbase_dir\u001b[0m\u001b[1;33m)\u001b[0m\u001b[1;33m\u001b[0m\u001b[1;33m\u001b[0m\u001b[0m\n\u001b[0m\u001b[0;32m      3\u001b[0m \u001b[0mprint\u001b[0m\u001b[1;33m(\u001b[0m\u001b[0mfolders\u001b[0m\u001b[1;33m)\u001b[0m\u001b[1;33m\u001b[0m\u001b[1;33m\u001b[0m\u001b[0m\n",
      "\u001b[1;31mFileNotFoundError\u001b[0m: [WinError 3] El sistema no puede encontrar la ruta especificada: '../input/multiclass-weather-dataset/Multi-class Weather Dataset'"
     ]
    }
   ],
   "source": [
    "base_dir = r'../input/multiclass-weather-dataset/Multi-class Weather Dataset'\n",
    "folders = os.listdir(base_dir)\n",
    "print(folders)"
   ]
  },
  {
   "cell_type": "code",
   "execution_count": 3,
   "metadata": {
    "execution": {
     "iopub.execute_input": "2022-05-09T18:16:56.803810Z",
     "iopub.status.busy": "2022-05-09T18:16:56.803520Z",
     "iopub.status.idle": "2022-05-09T18:16:58.069932Z",
     "shell.execute_reply": "2022-05-09T18:16:58.069054Z",
     "shell.execute_reply.started": "2022-05-09T18:16:56.803774Z"
    }
   },
   "outputs": [],
   "source": [
    "from tensorflow.keras.preprocessing.image import ImageDataGenerator\n",
    "#ImageDataGenerator = tf.keras.preprocessing.image.ImageDataGenerator\n",
    "\n",
    "datagenerator = ImageDataGenerator(rescale=1/255, validation_split=0.2)\n",
    "train_generator = datagenerator.flow_from_directory(\n",
    "    base_dir,\n",
    "    target_size=(250 , 250),\n",
    "    batch_size=32,\n",
    "    subset='training',\n",
    ")\n",
    "\n",
    "test_generator = datagenerator.flow_from_directory(\n",
    "    base_dir,\n",
    "    target_size=(250 , 250),\n",
    "    batch_size=32,\n",
    "    subset='validation',\n",
    ")"
   ]
  },
  {
   "cell_type": "markdown",
   "metadata": {},
   "source": [
    "# Preparación Red Neuronal"
   ]
  },
  {
   "cell_type": "code",
   "execution_count": 4,
   "metadata": {
    "execution": {
     "iopub.execute_input": "2022-05-09T18:16:58.072936Z",
     "iopub.status.busy": "2022-05-09T18:16:58.072479Z",
     "iopub.status.idle": "2022-05-09T18:17:00.950155Z",
     "shell.execute_reply": "2022-05-09T18:17:00.949226Z",
     "shell.execute_reply.started": "2022-05-09T18:16:58.072877Z"
    }
   },
   "outputs": [],
   "source": [
    "from tensorflow.keras import Input\n",
    "from tensorflow.keras.models import Model\n",
    "from tensorflow.keras.layers import Dense,Flatten,MaxPooling2D,Conv2D,Dropout\n",
    "\n",
    "inputs = Input(shape=(250, 250, 3))\n",
    "\n",
    "x = Conv2D(32, (5,5), activation = 'relu')(inputs)\n",
    "x = MaxPooling2D(3,3)(x)\n",
    "x = Conv2D(64, (5,5) , activation = 'relu')(x)\n",
    "x = MaxPooling2D((3,3))(x)\n",
    "x = Conv2D(128 , (5,5) , activation = 'relu')(x)\n",
    "x = MaxPooling2D(3,3)(x)\n",
    "x = Flatten()(x)\n",
    "x = Dropout(0.5, seed = 5)(x)\n",
    "x = Dense(128 , activation = 'relu')(x)\n",
    "\n",
    "outputs = Dense(4, activation = 'softmax')(x)\n",
    "\n",
    "model:Model = Model(inputs=inputs, outputs=outputs)"
   ]
  },
  {
   "cell_type": "code",
   "execution_count": 5,
   "metadata": {
    "execution": {
     "iopub.execute_input": "2022-05-09T18:17:00.952080Z",
     "iopub.status.busy": "2022-05-09T18:17:00.951572Z",
     "iopub.status.idle": "2022-05-09T18:19:52.790246Z",
     "shell.execute_reply": "2022-05-09T18:19:52.789549Z",
     "shell.execute_reply.started": "2022-05-09T18:17:00.952034Z"
    }
   },
   "outputs": [],
   "source": [
    "model.compile(optimizer=\"Adam\", loss=\"mean_squared_error\", metrics=[\"accuracy\"])\n",
    "model.fit(\n",
    "    train_generator, \n",
    "    epochs = 15,\n",
    "    steps_per_epoch = train_generator.n // train_generator.batch_size,\n",
    "    validation_data = test_generator,\n",
    "    validation_steps = test_generator.n // test_generator.batch_size,\n",
    ")"
   ]
  },
  {
   "cell_type": "code",
   "execution_count": 6,
   "metadata": {
    "execution": {
     "iopub.execute_input": "2022-05-09T18:19:52.791908Z",
     "iopub.status.busy": "2022-05-09T18:19:52.791527Z",
     "iopub.status.idle": "2022-05-09T18:19:52.798459Z",
     "shell.execute_reply": "2022-05-09T18:19:52.797807Z",
     "shell.execute_reply.started": "2022-05-09T18:19:52.791871Z"
    }
   },
   "outputs": [],
   "source": [
    "results = pd.DataFrame(model.history.history)"
   ]
  },
  {
   "cell_type": "code",
   "execution_count": 7,
   "metadata": {
    "execution": {
     "iopub.execute_input": "2022-05-09T18:19:52.800382Z",
     "iopub.status.busy": "2022-05-09T18:19:52.799819Z",
     "iopub.status.idle": "2022-05-09T18:19:53.092303Z",
     "shell.execute_reply": "2022-05-09T18:19:53.091596Z",
     "shell.execute_reply.started": "2022-05-09T18:19:52.800343Z"
    }
   },
   "outputs": [],
   "source": [
    "results[['loss','val_loss']].plot(title='Model Loss')\n",
    "plt.savefig('./loss.png')"
   ]
  },
  {
   "cell_type": "code",
   "execution_count": 8,
   "metadata": {
    "execution": {
     "iopub.execute_input": "2022-05-09T18:19:53.094826Z",
     "iopub.status.busy": "2022-05-09T18:19:53.093396Z",
     "iopub.status.idle": "2022-05-09T18:19:53.351274Z",
     "shell.execute_reply": "2022-05-09T18:19:53.350574Z",
     "shell.execute_reply.started": "2022-05-09T18:19:53.094784Z"
    }
   },
   "outputs": [],
   "source": [
    "results[['accuracy','val_accuracy']].plot(title='Model Acurracy')\n",
    "plt.savefig('./accuracy.png')"
   ]
  },
  {
   "cell_type": "code",
   "execution_count": 9,
   "metadata": {
    "execution": {
     "iopub.execute_input": "2022-05-09T18:19:53.352728Z",
     "iopub.status.busy": "2022-05-09T18:19:53.352455Z",
     "iopub.status.idle": "2022-05-09T18:19:53.360044Z",
     "shell.execute_reply": "2022-05-09T18:19:53.359184Z",
     "shell.execute_reply.started": "2022-05-09T18:19:53.352692Z"
    }
   },
   "outputs": [],
   "source": [
    "# Mostrar el accuracy y val_accuracy obtenidos\n",
    "print(\"Accuracy: {}, Val_Accuracy: {}\".format(results['accuracy'].iloc[-1], results['val_accuracy'].iloc[-1]))\n",
    "# Mostrar el loss y val_loss obtenidos\n",
    "print(\"Loss: {}, Val_Loss: {}\".format(results['loss'].iloc[-1], results['val_loss'].iloc[-1]))"
   ]
  },
  {
   "cell_type": "code",
   "execution_count": 26,
   "metadata": {
    "execution": {
     "iopub.execute_input": "2022-05-09T18:37:00.885328Z",
     "iopub.status.busy": "2022-05-09T18:37:00.885073Z",
     "iopub.status.idle": "2022-05-09T18:37:05.812472Z",
     "shell.execute_reply": "2022-05-09T18:37:05.811805Z",
     "shell.execute_reply.started": "2022-05-09T18:37:00.885301Z"
    }
   },
   "outputs": [],
   "source": [
    "# Hacer confusion matrix\n",
    "from sklearn.metrics import confusion_matrix, accuracy_score, ConfusionMatrixDisplay\n",
    "# concatenate n batches\n",
    "\n",
    "class_names = ['Nublado', 'Lluvia', 'Soleado', 'Amanecer']\n",
    "n = 10\n",
    "\n",
    "image_batch, classes_batch = next(test_generator)\n",
    "\n",
    "for batch in range(n):\n",
    "    temp = next(test_generator)\n",
    "    image_batch = np.concatenate((image_batch, temp[0]))\n",
    "    classes_batch = np.concatenate((classes_batch, temp[1]))\n",
    "\n",
    "classes_batch = classes_batch\n",
    "y_predict = model.predict(image_batch)\n",
    "\n",
    "ConfusionMatrixDisplay.from_predictions(\n",
    "    y_true = [np.argmax(x) for x in classes_batch],\n",
    "    #y_true = classes_batch.\n",
    "    y_pred = [np.argmax(x) for x in y_predict],\n",
    "    #y_pred = y_predict,\n",
    "    display_labels=class_names,\n",
    "    cmap='Blues'\n",
    ")\n",
    "plt.savefig('./confusion_matrix.png')                                       \n",
    "plt.show()"
   ]
  },
  {
   "cell_type": "code",
   "execution_count": 23,
   "metadata": {
    "execution": {
     "iopub.execute_input": "2022-05-09T18:31:11.415546Z",
     "iopub.status.busy": "2022-05-09T18:31:11.414983Z",
     "iopub.status.idle": "2022-05-09T18:31:11.422486Z",
     "shell.execute_reply": "2022-05-09T18:31:11.421830Z",
     "shell.execute_reply.started": "2022-05-09T18:31:11.415511Z"
    }
   },
   "outputs": [],
   "source": [
    "def predict_one(model, num_images = None):  \n",
    "    image_batch, classes_batch = next(test_generator)\n",
    "    predicted_batch = model.predict(image_batch)\n",
    "    for k in range(0,image_batch.shape[0] if num_images is None else num_images):\n",
    "        image = image_batch[k]\n",
    "        real_class = class_names[np.argmax(classes_batch[k])]\n",
    "        predicted_class = class_names[np.argmax(predicted_batch[k])]\n",
    "        value_predicted = predicted_batch[k]\n",
    "        isTrue = (real_class == predicted_class)\n",
    "        plt.figure(k)\n",
    "        plt.title(str(\"Predicción Correcta\" if isTrue else \"Predicción Incorrecta\") + ' - class: ' + real_class + ' - ' + 'predicted: ' + predicted_class + str(value_predicted))\n",
    "        plt.axis('off')\n",
    "        plt.savefig('./' + real_class + '_' + predicted_class + '_' + str(value_predicted) + '.png')\n",
    "        plt.imshow(image)"
   ]
  },
  {
   "cell_type": "code",
   "execution_count": 24,
   "metadata": {
    "execution": {
     "iopub.execute_input": "2022-05-09T18:31:13.926233Z",
     "iopub.status.busy": "2022-05-09T18:31:13.925588Z",
     "iopub.status.idle": "2022-05-09T18:31:15.002387Z",
     "shell.execute_reply": "2022-05-09T18:31:15.001359Z",
     "shell.execute_reply.started": "2022-05-09T18:31:13.926198Z"
    }
   },
   "outputs": [],
   "source": [
    "predict_one(model, 10)"
   ]
  }
 ],
 "metadata": {
  "kernelspec": {
   "display_name": "Python 3 (ipykernel)",
   "language": "python",
   "name": "python3"
  },
  "language_info": {
   "codemirror_mode": {
    "name": "ipython",
    "version": 3
   },
   "file_extension": ".py",
   "mimetype": "text/x-python",
   "name": "python",
   "nbconvert_exporter": "python",
   "pygments_lexer": "ipython3",
   "version": "3.10.4"
  },
  "vscode": {
   "interpreter": {
    "hash": "26c46c529b527458d825a9d7dbc9f56fce2fa9c2b20812de110d46f2b376846d"
   }
  }
 },
 "nbformat": 4,
 "nbformat_minor": 4
}
