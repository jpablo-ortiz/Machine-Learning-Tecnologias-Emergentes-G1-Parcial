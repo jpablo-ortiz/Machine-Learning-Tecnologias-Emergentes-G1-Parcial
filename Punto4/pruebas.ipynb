{
 "cells": [
  {
   "cell_type": "markdown",
   "metadata": {},
   "source": [
    "# Imports"
   ]
  },
  {
   "cell_type": "code",
   "execution_count": 1,
   "metadata": {},
   "outputs": [],
   "source": [
    "import pandas as pd\n",
    "import numpy as np\n",
    "import matplotlib.pyplot as plt\n",
    "import tensorflow as tf\n",
    "import os"
   ]
  },
  {
   "cell_type": "code",
   "execution_count": 2,
   "metadata": {},
   "outputs": [
    {
     "name": "stdout",
     "output_type": "stream",
     "text": [
      "['Cloudy', 'Rain', 'Shine', 'Sunrise']\n"
     ]
    }
   ],
   "source": [
    "base_dir = r'./data/raw'\n",
    "folders = os.listdir(base_dir)\n",
    "print(folders)"
   ]
  },
  {
   "cell_type": "code",
   "execution_count": 3,
   "metadata": {},
   "outputs": [
    {
     "name": "stdout",
     "output_type": "stream",
     "text": [
      "Found 901 images belonging to 4 classes.\n",
      "Found 224 images belonging to 4 classes.\n"
     ]
    }
   ],
   "source": [
    "from tensorflow.keras.preprocessing.image import ImageDataGenerator\n",
    "#ImageDataGenerator = tf.keras.preprocessing.image.ImageDataGenerator\n",
    "\n",
    "datagenerator = ImageDataGenerator(rescale=1/255, validation_split=0.2)\n",
    "train_generator = datagenerator.flow_from_directory(\n",
    "    base_dir,\n",
    "    target_size=(250 , 250),\n",
    "    batch_size=32,\n",
    "    subset='training',\n",
    ")\n",
    "\n",
    "test_generator = datagenerator.flow_from_directory(\n",
    "    base_dir,\n",
    "    target_size=(250 , 250),\n",
    "    batch_size=32,\n",
    "    subset='validation',\n",
    ")"
   ]
  },
  {
   "cell_type": "code",
   "execution_count": 5,
   "metadata": {},
   "outputs": [],
   "source": [
    "from tensorflow.keras import Input\n",
    "from tensorflow.keras.models import Model\n",
    "from tensorflow.keras.layers import Dense,Flatten,MaxPooling2D,Conv2D,Dropout\n",
    "\n",
    "inputs = Input(shape=(250, 250, 3))\n",
    "\n",
    "x = Conv2D(32, (5,5), input_shape = (250 , 250 , 3), activation = 'relu')(inputs)\n",
    "x = MaxPooling2D(3,3)(x)\n",
    "x = Conv2D(64, (5,5) , activation = 'relu')(x)\n",
    "x = MaxPooling2D((3,3))(x)\n",
    "x = Conv2D(128 , (5,5) , activation = 'relu')(x)\n",
    "x = MaxPooling2D(3,3)(x)\n",
    "x = Flatten()(x)\n",
    "x = Dropout(0.5, seed = 5)(x)\n",
    "x = Dense(128 , activation = 'relu')(x)\n",
    "\n",
    "outputs = Dense(4, activation = 'softmax')(x)\n",
    "\n",
    "model:Model = Model(inputs=inputs, outputs=outputs)"
   ]
  },
  {
   "cell_type": "code",
   "execution_count": 6,
   "metadata": {},
   "outputs": [
    {
     "name": "stdout",
     "output_type": "stream",
     "text": [
      "Epoch 1/10\n"
     ]
    },
    {
     "ename": "",
     "evalue": "",
     "output_type": "error",
     "traceback": [
      "\u001b[1;31mCanceled future for execute_request message before replies were done"
     ]
    },
    {
     "ename": "",
     "evalue": "",
     "output_type": "error",
     "traceback": [
      "\u001b[1;31mThe Kernel crashed while executing code in the the current cell or a previous cell. Please review the code in the cell(s) to identify a possible cause of the failure. Click <a href='https://aka.ms/vscodeJupyterKernelCrash'>here</a> for more info. View Jupyter <a href='command:jupyter.viewOutput'>log</a> for further details."
     ]
    }
   ],
   "source": [
    "model.compile(optimizer=\"Adam\", loss=\"mean_squared_error\", metrics=[\"accuracy\"])\n",
    "model.fit(\n",
    "    train_generator, \n",
    "    epochs = 10,\n",
    "    steps_per_epoch = train_generator.n // train_generator.batch_size,\n",
    "    validation_data = test_generator,\n",
    "    validation_steps = test_generator.n // test_generator.batch_size,\n",
    "    #callbacks= callbacks\n",
    ")"
   ]
  },
  {
   "cell_type": "code",
   "execution_count": null,
   "metadata": {},
   "outputs": [],
   "source": [
    "losses = pd.DataFrame(model.history.history)\n",
    "losses[['loss','val_loss']].plot(title='Model')"
   ]
  },
  {
   "cell_type": "code",
   "execution_count": null,
   "metadata": {},
   "outputs": [],
   "source": [
    "accurracies = pd.DataFrame(model.history.history)\n",
    "accurracies[['accuracy','val_accuracy']].plot(title='Model')"
   ]
  },
  {
   "cell_type": "code",
   "execution_count": null,
   "metadata": {},
   "outputs": [],
   "source": [
    "y_pred = model.predict(test_generator)"
   ]
  },
  {
   "cell_type": "code",
   "execution_count": null,
   "metadata": {},
   "outputs": [],
   "source": [
    "from sklearn.metrics import confusion_matrix, accuracy_score, ConfusionMatrixDisplay\n",
    "\n",
    "print('Accuracy: %.3f' % accuracy_score(Y_test, y_pred), ' -> ', accuracy_score(Y_test, y_pred) * 100, '%')\n",
    "\n",
    "ConfusionMatrixDisplay.from_predictions(Y_test, y_pred, display_labels=['Group 0', 'Group 1'], cmap='Blues')\n",
    "plt.show()"
   ]
  },
  {
   "cell_type": "code",
   "execution_count": null,
   "metadata": {},
   "outputs": [],
   "source": [
    "class_names = folders\n",
    "def predict_one(model):  \n",
    "    image_batch, classes_batch = next(test_generator)\n",
    "    predicted_batch = model.predict(image_batch)\n",
    "    for k in range(0,image_batch.shape[0]):\n",
    "        image = image_batch[k]\n",
    "        pred = predicted_batch[k]\n",
    "        the_pred = np.argmax(pred)\n",
    "        predicted = class_names[the_pred]\n",
    "        val_pred = max(pred)\n",
    "        the_class = np.argmax(classes_batch[k])\n",
    "        value = class_names[np.argmax(classes_batch[k])]\n",
    "        plt.figure(k)\n",
    "        isTrue = (the_pred == the_class)\n",
    "        plt.title(str(isTrue) + ' - class: ' + value + ' - ' + 'predicted: ' + predicted + '[' + str(val_pred) + ']')\n",
    "        plt.imshow(image)\n",
    "\n",
    "predict_one(model)  "
   ]
  },
  {
   "cell_type": "code",
   "execution_count": null,
   "metadata": {},
   "outputs": [],
   "source": [
    "# Hacer confusion matrix\n",
    "from sklearn.metrics import confusion_matrix, accuracy_score, ConfusionMatrixDisplay\n",
    "# concatenate n batches\n",
    "\n",
    "class_names = ['Nublado', 'Lluvia', 'Soleado', 'Amanecer']\n",
    "n = 10\n",
    "\n",
    "image_batch, classes_batch = next(test_generator)\n",
    "\n",
    "for batch in range(n):\n",
    "    temp = next(test_generator)\n",
    "    image_batch = np.concatenate((image_batch, temp[0]))\n",
    "    classes_batch = np.concatenate((classes_batch, temp[1]))\n",
    "\n",
    "classes_batch = classes_batch.tolist()\n",
    "#print(classes_batch)\n",
    "y_predict = model.predict(image_batch)#.reshape(32*(n+1))\n",
    "#print(y_predict)\n",
    "\n",
    "y_temp = []\n",
    "for x in y_predict:\n",
    "    #print(x)\n",
    "    # Poner en 1 el máximo y el resto en 0\n",
    "    the_pred = np.argmax(x)\n",
    "    x_temp = []\n",
    "    for i, clase in enumerate(x):\n",
    "        #print(clase)\n",
    "        x_temp.append(0 if i != the_pred else 1)\n",
    "    y_temp.append(x_temp)\n",
    "    #print(x_temp)\n",
    "y_predict = y_temp\n",
    "\n",
    "ConfusionMatrixDisplay.from_predictions(\n",
    "    y_true = [np.argmax(x) for x in classes_batch],\n",
    "    #y_true = classes_batch.\n",
    "    y_pred = [np.argmax(x) for x in y_predict],\n",
    "    #y_pred = y_predict,\n",
    "    display_labels=class_names,\n",
    "    cmap='Blues'\n",
    ")\n",
    "plt.savefig('./confusion_matrix.png')                                       \n",
    "plt.show()"
   ]
  }
 ],
 "metadata": {
  "interpreter": {
   "hash": "26c46c529b527458d825a9d7dbc9f56fce2fa9c2b20812de110d46f2b376846d"
  },
  "kernelspec": {
   "display_name": "Python 3.10.0 64-bit",
   "language": "python",
   "name": "python3"
  },
  "language_info": {
   "codemirror_mode": {
    "name": "ipython",
    "version": 3
   },
   "file_extension": ".py",
   "mimetype": "text/x-python",
   "name": "python",
   "nbconvert_exporter": "python",
   "pygments_lexer": "ipython3",
   "version": "3.10.0"
  },
  "orig_nbformat": 4
 },
 "nbformat": 4,
 "nbformat_minor": 2
}
