{
 "cells": [
  {
   "cell_type": "code",
   "execution_count": null,
   "metadata": {},
   "outputs": [],
   "source": [
    "import tensorflow_datasets as tfds"
   ]
  },
  {
   "cell_type": "code",
   "execution_count": null,
   "metadata": {},
   "outputs": [],
   "source": [
    "# Image Classification data set\n",
    "tfk:dataset:mnist \n",
    "tfk:dataset:fmnist\n",
    "tfk:dataset:cifar10 \n",
    "tfk:dataset:cifar100 \n",
    "tfk:dataset:imagenet2012\n",
    "tfk:dataset:celeb_a \n",
    "\n",
    "# Object_detection data set\n",
    "tfk:dataset:coco\n",
    "tfk:dataset:voc2007\n",
    "\n",
    "# Structured data set\n",
    "tfk:dataset:iris\n",
    "\n",
    "# Generative data set\n",
    "tfk:dataset:cycle_gan\n",
    "\n",
    "# Summarization data set\n",
    "tfk:dataset:scientific_papers\n",
    "\n",
    "# Text Classification data set\n",
    "tfk:dataset:scicite\n",
    "\n",
    "# Language Translate data set\n",
    "tfk:dataset:flores\n",
    "\n",
    "# Movies data set\n",
    "tfk:dataset:moving_mnist"
   ]
  },
  {
   "cell_type": "code",
   "execution_count": null,
   "metadata": {},
   "outputs": [],
   "source": [
    "tfk:ctrl:model\n",
    "tfk:ctrl:fit\n",
    "tfk:ctrl:evaluate\n",
    "tfk:ctrl:compile\n",
    "tfk:ctrl:callback\n",
    "tfk:ctrl:saveModel\n",
    "tfk:ctrl:loadModel"
   ]
  },
  {
   "cell_type": "code",
   "execution_count": null,
   "metadata": {},
   "outputs": [],
   "source": [
    "# This field can generate a runnable .py file. It can used to set the code frame. \n",
    "# All of the codes are derived from tensorflow official guide. \n",
    "# We express our appreciation for tensorflow developers and the author of the official document.\n",
    "\n",
    "tfk:code:mnist:simple # Simple code for img classification\n",
    "tfk:code:mnist:full # More complex code for img classification\n",
    "tfk:code:oxford # Code for img segmentation\n",
    "tfk:code:translate # Code for NLP-translate\n",
    "tfk:code:word_embeddings # Code for NLP-word embeddings"
   ]
  }
 ],
 "metadata": {
  "interpreter": {
   "hash": "26c46c529b527458d825a9d7dbc9f56fce2fa9c2b20812de110d46f2b376846d"
  },
  "kernelspec": {
   "display_name": "Python 3.10.0 64-bit",
   "language": "python",
   "name": "python3"
  },
  "language_info": {
   "name": "python",
   "version": "3.10.0"
  },
  "orig_nbformat": 4
 },
 "nbformat": 4,
 "nbformat_minor": 2
}
