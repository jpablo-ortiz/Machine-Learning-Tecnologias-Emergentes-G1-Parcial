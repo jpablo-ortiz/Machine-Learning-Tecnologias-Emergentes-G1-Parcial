{
 "cells": [
  {
   "cell_type": "code",
   "execution_count": 1,
   "metadata": {
    "_cell_guid": "b1076dfc-b9ad-4769-8c92-a6c4dae69d19",
    "_uuid": "8f2839f25d086af736a60e9eeb907d3b93b6e0e5",
    "execution": {
     "iopub.execute_input": "2020-11-16T06:44:00.320981Z",
     "iopub.status.busy": "2020-11-16T06:44:00.320322Z",
     "iopub.status.idle": "2020-11-16T06:44:00.452708Z",
     "shell.execute_reply": "2020-11-16T06:44:00.453487Z"
    },
    "papermill": {
     "duration": 0.157172,
     "end_time": "2020-11-16T06:44:00.453711",
     "exception": false,
     "start_time": "2020-11-16T06:44:00.296539",
     "status": "completed"
    },
    "tags": []
   },
   "outputs": [],
   "source": [
    "# This Python 3 environment comes with many helpful analytics libraries installed\n",
    "# It is defined by the kaggle/python Docker image: https://github.com/kaggle/docker-python\n",
    "# For example, here's several helpful packages to load\n",
    "\n",
    "import numpy as np # linear algebra\n",
    "import pandas as pd # data processing, CSV file I/O (e.g. pd.read_csv)\n",
    "\n",
    "# Input data files are available in the read-only \"../input/\" directory\n",
    "# For example, running this (by clicking run or pressing Shift+Enter) will list all files under the input directory\n",
    "\n",
    "import os\n",
    "for dirname, _, filenames in os.walk('/kaggle/input'):\n",
    "    for filename in filenames:\n",
    "        print(os.path.join(dirname, filename))\n",
    "\n",
    "# You can write up to 20GB to the current directory (/kaggle/working/) that gets preserved as output when you create a version using \"Save & Run All\" \n",
    "# You can also write temporary files to /kaggle/temp/, but they won't be saved outside of the current session"
   ]
  },
  {
   "cell_type": "markdown",
   "metadata": {
    "papermill": {
     "duration": 0.024389,
     "end_time": "2020-11-16T06:44:00.517941",
     "exception": false,
     "start_time": "2020-11-16T06:44:00.493552",
     "status": "completed"
    },
    "tags": []
   },
   "source": [
    "# **QUICK AND DIRTY ON(1st Attempt)**"
   ]
  },
  {
   "cell_type": "code",
   "execution_count": 2,
   "metadata": {
    "_cell_guid": "79c7e3d0-c299-4dcb-8224-4455121ee9b0",
    "_uuid": "d629ff2d2480ee46fbb7e2d37f6b5fab8052498a",
    "execution": {
     "iopub.execute_input": "2020-11-16T06:44:00.564598Z",
     "iopub.status.busy": "2020-11-16T06:44:00.563735Z",
     "iopub.status.idle": "2020-11-16T06:44:07.060841Z",
     "shell.execute_reply": "2020-11-16T06:44:07.061915Z"
    },
    "papermill": {
     "duration": 6.519751,
     "end_time": "2020-11-16T06:44:07.062085",
     "exception": false,
     "start_time": "2020-11-16T06:44:00.542334",
     "status": "completed"
    },
    "tags": []
   },
   "outputs": [],
   "source": [
    "import tensorflow as tf\n",
    "import numpy as np\n",
    "from tensorflow.keras.preprocessing.image import ImageDataGenerator\n",
    "from tensorflow.keras.preprocessing import image\n",
    "import os\n",
    "import glob\n",
    "from PIL import Image\n",
    "import matplotlib.pyplot as plt"
   ]
  },
  {
   "cell_type": "code",
   "execution_count": 3,
   "metadata": {
    "execution": {
     "iopub.execute_input": "2020-11-16T06:44:07.112282Z",
     "iopub.status.busy": "2020-11-16T06:44:07.109727Z",
     "iopub.status.idle": "2020-11-16T06:44:07.116205Z",
     "shell.execute_reply": "2020-11-16T06:44:07.116859Z"
    },
    "papermill": {
     "duration": 0.033133,
     "end_time": "2020-11-16T06:44:07.117011",
     "exception": false,
     "start_time": "2020-11-16T06:44:07.083878",
     "status": "completed"
    },
    "tags": []
   },
   "outputs": [
    {
     "name": "stdout",
     "output_type": "stream",
     "text": [
      "['Cloudy', 'Rain', 'Shine', 'Sunrise']\n"
     ]
    }
   ],
   "source": [
    "base_dir = r'./data/raw'\n",
    "folders = os.listdir(base_dir)\n",
    "print(folders)"
   ]
  },
  {
   "cell_type": "code",
   "execution_count": 4,
   "metadata": {
    "execution": {
     "iopub.execute_input": "2020-11-16T06:44:07.173353Z",
     "iopub.status.busy": "2020-11-16T06:44:07.172507Z",
     "iopub.status.idle": "2020-11-16T06:44:07.385996Z",
     "shell.execute_reply": "2020-11-16T06:44:07.385020Z"
    },
    "papermill": {
     "duration": 0.246538,
     "end_time": "2020-11-16T06:44:07.386155",
     "exception": false,
     "start_time": "2020-11-16T06:44:07.139617",
     "status": "completed"
    },
    "tags": []
   },
   "outputs": [
    {
     "name": "stdout",
     "output_type": "stream",
     "text": [
      "Found 901 images belonging to 4 classes.\n",
      "Found 224 images belonging to 4 classes.\n"
     ]
    }
   ],
   "source": [
    "# labeling files with Image Data Generator\n",
    "\n",
    "train_datagen = ImageDataGenerator(rescale=1./255,\n",
    "    shear_range=0.2,\n",
    "    zoom_range=0.2,\n",
    "    horizontal_flip=True,\n",
    "    validation_split=0.2) # set validation split\n",
    "\n",
    "train_generator = train_datagen.flow_from_directory(\n",
    "    base_dir,\n",
    "    target_size=(250 , 250),\n",
    "    batch_size= 32,\n",
    "    class_mode='categorical',\n",
    "    subset='training') # set as training data\n",
    "\n",
    "validation_generator = train_datagen.flow_from_directory(\n",
    "    base_dir, # same directory as training data\n",
    "    target_size=(250, 250),\n",
    "    batch_size= 32,\n",
    "    class_mode='categorical',\n",
    "    subset='validation') # set as validation data\n",
    "\n"
   ]
  },
  {
   "cell_type": "code",
   "execution_count": 5,
   "metadata": {
    "execution": {
     "iopub.execute_input": "2020-11-16T06:44:07.443545Z",
     "iopub.status.busy": "2020-11-16T06:44:07.442708Z",
     "iopub.status.idle": "2020-11-16T06:44:07.446428Z",
     "shell.execute_reply": "2020-11-16T06:44:07.444267Z"
    },
    "papermill": {
     "duration": 0.036062,
     "end_time": "2020-11-16T06:44:07.446546",
     "exception": false,
     "start_time": "2020-11-16T06:44:07.410484",
     "status": "completed"
    },
    "tags": []
   },
   "outputs": [
    {
     "name": "stdout",
     "output_type": "stream",
     "text": [
      "{0: 'Cloudy', 1: 'Rain', 2: 'Shine', 3: 'Sunrise'}\n"
     ]
    }
   ],
   "source": [
    "# Generated Labels\n",
    "labels = (train_generator.class_indices)\n",
    "labels = dict((v , k) for k , v in labels.items())\n",
    "print(labels)\n"
   ]
  },
  {
   "cell_type": "code",
   "execution_count": 6,
   "metadata": {
    "execution": {
     "iopub.execute_input": "2020-11-16T06:44:07.498721Z",
     "iopub.status.busy": "2020-11-16T06:44:07.497731Z",
     "iopub.status.idle": "2020-11-16T06:44:07.512576Z",
     "shell.execute_reply": "2020-11-16T06:44:07.513541Z"
    },
    "papermill": {
     "duration": 0.044199,
     "end_time": "2020-11-16T06:44:07.514009",
     "exception": false,
     "start_time": "2020-11-16T06:44:07.469810",
     "status": "completed"
    },
    "tags": []
   },
   "outputs": [],
   "source": [
    "# setting seed and clearing session\n",
    "tf.keras.backend.clear_session()\n",
    "tf.random.set_seed(51)\n",
    "np.random.seed(51)"
   ]
  },
  {
   "cell_type": "code",
   "execution_count": 7,
   "metadata": {
    "execution": {
     "iopub.execute_input": "2020-11-16T06:44:07.589946Z",
     "iopub.status.busy": "2020-11-16T06:44:07.589045Z",
     "iopub.status.idle": "2020-11-16T06:44:13.496813Z",
     "shell.execute_reply": "2020-11-16T06:44:13.496179Z"
    },
    "papermill": {
     "duration": 5.959804,
     "end_time": "2020-11-16T06:44:13.496928",
     "exception": false,
     "start_time": "2020-11-16T06:44:07.537124",
     "status": "completed"
    },
    "tags": []
   },
   "outputs": [],
   "source": [
    "num_classes = 4\n",
    "\n",
    "# defining model\n",
    "model = tf.keras.Sequential([\n",
    "    tf.keras.layers.Conv2D(32, (5,5), input_shape = (250 , 250 , 3), activation = 'relu'),\n",
    "    tf.keras.layers.MaxPool2D(3,3),\n",
    "    tf.keras.layers.Conv2D(64, (5,5) , activation = 'relu'),\n",
    "    tf.keras.layers.MaxPool2D((3,3)),\n",
    "    tf.keras.layers.Conv2D(128 , (5,5) , activation = 'relu'),\n",
    "    tf.keras.layers.MaxPool2D(3,3),\n",
    "    tf.keras.layers.Flatten(),\n",
    "    tf.keras.layers.Dropout(0.5, seed = 5),\n",
    "    tf.keras.layers.Dense(128 , activation = 'relu'),\n",
    "    tf.keras.layers.Dense(num_classes , activation = 'softmax')])"
   ]
  },
  {
   "cell_type": "code",
   "execution_count": 8,
   "metadata": {
    "execution": {
     "iopub.execute_input": "2020-11-16T06:44:13.545844Z",
     "iopub.status.busy": "2020-11-16T06:44:13.544929Z",
     "iopub.status.idle": "2020-11-16T06:44:13.560260Z",
     "shell.execute_reply": "2020-11-16T06:44:13.559781Z"
    },
    "papermill": {
     "duration": 0.045547,
     "end_time": "2020-11-16T06:44:13.560360",
     "exception": false,
     "start_time": "2020-11-16T06:44:13.514813",
     "status": "completed"
    },
    "tags": []
   },
   "outputs": [
    {
     "name": "stdout",
     "output_type": "stream",
     "text": [
      "Model: \"sequential\"\n",
      "_________________________________________________________________\n",
      "Layer (type)                 Output Shape              Param #   \n",
      "=================================================================\n",
      "conv2d (Conv2D)              (None, 246, 246, 32)      2432      \n",
      "_________________________________________________________________\n",
      "max_pooling2d (MaxPooling2D) (None, 82, 82, 32)        0         \n",
      "_________________________________________________________________\n",
      "conv2d_1 (Conv2D)            (None, 78, 78, 64)        51264     \n",
      "_________________________________________________________________\n",
      "max_pooling2d_1 (MaxPooling2 (None, 26, 26, 64)        0         \n",
      "_________________________________________________________________\n",
      "conv2d_2 (Conv2D)            (None, 22, 22, 128)       204928    \n",
      "_________________________________________________________________\n",
      "max_pooling2d_2 (MaxPooling2 (None, 7, 7, 128)         0         \n",
      "_________________________________________________________________\n",
      "flatten (Flatten)            (None, 6272)              0         \n",
      "_________________________________________________________________\n",
      "dropout (Dropout)            (None, 6272)              0         \n",
      "_________________________________________________________________\n",
      "dense (Dense)                (None, 128)               802944    \n",
      "_________________________________________________________________\n",
      "dense_1 (Dense)              (None, 4)                 516       \n",
      "=================================================================\n",
      "Total params: 1,062,084\n",
      "Trainable params: 1,062,084\n",
      "Non-trainable params: 0\n",
      "_________________________________________________________________\n"
     ]
    },
    {
     "name": "stderr",
     "output_type": "stream",
     "text": [
      "c:\\Users\\ortiz\\miniconda3\\lib\\site-packages\\tensorflow\\python\\keras\\optimizer_v2\\optimizer_v2.py:374: UserWarning: The `lr` argument is deprecated, use `learning_rate` instead.\n",
      "  warnings.warn(\n"
     ]
    }
   ],
   "source": [
    "# getting model summary after compiling\n",
    "model.compile(loss = 'categorical_crossentropy' , optimizer = tf.keras.optimizers.Adam(lr = 0.001) , metrics = 'accuracy')\n",
    "\n",
    "model.summary()"
   ]
  },
  {
   "cell_type": "code",
   "execution_count": 9,
   "metadata": {
    "execution": {
     "iopub.execute_input": "2020-11-16T06:44:13.604606Z",
     "iopub.status.busy": "2020-11-16T06:44:13.602697Z",
     "iopub.status.idle": "2020-11-16T06:44:13.605388Z",
     "shell.execute_reply": "2020-11-16T06:44:13.605874Z"
    },
    "papermill": {
     "duration": 0.027089,
     "end_time": "2020-11-16T06:44:13.605985",
     "exception": false,
     "start_time": "2020-11-16T06:44:13.578896",
     "status": "completed"
    },
    "tags": []
   },
   "outputs": [],
   "source": [
    "# defining callback for early stopping\n",
    "class My_callback(tf.keras.callbacks.Callback):\n",
    "    def on_epoch_end(self , epochs , logs = {}):\n",
    "        if(logs.get('accuracy') > 0.85 and logs.get('val_accuracy') > 0.85):\n",
    "            print('\\n stopping training')\n",
    "            self.model.stop_training = True\n",
    "            \n",
    "callbacks = My_callback()"
   ]
  },
  {
   "cell_type": "code",
   "execution_count": 10,
   "metadata": {
    "execution": {
     "iopub.execute_input": "2020-11-16T06:44:13.646610Z",
     "iopub.status.busy": "2020-11-16T06:44:13.645924Z",
     "iopub.status.idle": "2020-11-16T06:49:58.151708Z",
     "shell.execute_reply": "2020-11-16T06:49:58.152538Z"
    },
    "papermill": {
     "duration": 344.528908,
     "end_time": "2020-11-16T06:49:58.152790",
     "exception": false,
     "start_time": "2020-11-16T06:44:13.623882",
     "status": "completed"
    },
    "tags": []
   },
   "outputs": [
    {
     "ename": "",
     "evalue": "",
     "output_type": "error",
     "traceback": [
      "\u001b[1;31mCanceled future for execute_request message before replies were done"
     ]
    },
    {
     "ename": "",
     "evalue": "",
     "output_type": "error",
     "traceback": [
      "\u001b[1;31mThe Kernel crashed while executing code in the the current cell or a previous cell. Please review the code in the cell(s) to identify a possible cause of the failure. Click <a href='https://aka.ms/vscodeJupyterKernelCrash'>here</a> for more info. View Jupyter <a href='command:jupyter.viewOutput'>log</a> for further details."
     ]
    }
   ],
   "source": [
    "# training model\n",
    "history = model.fit(train_generator ,\n",
    "          validation_data = validation_generator ,\n",
    "          epochs = 15 ,\n",
    "          steps_per_epoch = 901/32, # train_files/batch_size\n",
    "          validation_steps = 224/32, # valid_files/batch_size \n",
    "          callbacks = [callbacks]) "
   ]
  },
  {
   "cell_type": "markdown",
   "metadata": {
    "papermill": {
     "duration": 0.294378,
     "end_time": "2020-11-16T06:49:58.734933",
     "exception": false,
     "start_time": "2020-11-16T06:49:58.440555",
     "status": "completed"
    },
    "tags": []
   },
   "source": [
    "**Clearly As Can Be Seen loss < val_loss , maybe model overfits**"
   ]
  },
  {
   "cell_type": "code",
   "execution_count": null,
   "metadata": {
    "execution": {
     "iopub.execute_input": "2020-11-16T06:49:59.259727Z",
     "iopub.status.busy": "2020-11-16T06:49:59.258460Z",
     "iopub.status.idle": "2020-11-16T06:49:59.656972Z",
     "shell.execute_reply": "2020-11-16T06:49:59.655944Z"
    },
    "papermill": {
     "duration": 0.644552,
     "end_time": "2020-11-16T06:49:59.657081",
     "exception": false,
     "start_time": "2020-11-16T06:49:59.012529",
     "status": "completed"
    },
    "tags": []
   },
   "outputs": [],
   "source": [
    "# displaying graphs\n",
    "\n",
    "def plot_graphs(history, string):\n",
    "  plt.plot(history.history[string])\n",
    "  plt.plot(history.history['val_'+string])\n",
    "  plt.title(string)\n",
    "  plt.xlabel(\"Epochs\")\n",
    "  plt.ylabel(string)\n",
    "  plt.legend([string, 'val_'+string])\n",
    "  plt.show()\n",
    "\n",
    "plot_graphs(history, \"accuracy\")\n",
    "plot_graphs(history, \"loss\")"
   ]
  },
  {
   "cell_type": "code",
   "execution_count": null,
   "metadata": {
    "execution": {
     "iopub.execute_input": "2020-11-16T06:50:00.080746Z",
     "iopub.status.busy": "2020-11-16T06:50:00.078505Z",
     "iopub.status.idle": "2020-11-16T06:50:00.081692Z",
     "shell.execute_reply": "2020-11-16T06:50:00.082260Z"
    },
    "papermill": {
     "duration": 0.221134,
     "end_time": "2020-11-16T06:50:00.082398",
     "exception": false,
     "start_time": "2020-11-16T06:49:59.861264",
     "status": "completed"
    },
    "tags": []
   },
   "outputs": [],
   "source": [
    "def prediction(test_path):\n",
    "    img = image.load_img(test_path , target_size = (250 , 250))\n",
    "    img = image.img_to_array(img, dtype=np.uint8)\n",
    "    img = np.array(img)/255.0\n",
    "        \n",
    "    plt.title('Image')\n",
    "    plt.axis('off')\n",
    "    plt.imshow(img.squeeze())\n",
    "        \n",
    "    predict = model.predict(img[np.newaxis , ...])\n",
    "    predicted_class = labels[np.argmax(predict[0] , axis = -1)]\n",
    "        \n",
    "    print('Prediction Value: ' , np.max(predict[0] , axis = -1))\n",
    "    print(\"Classified:\",predicted_class)"
   ]
  },
  {
   "cell_type": "code",
   "execution_count": null,
   "metadata": {
    "execution": {
     "iopub.execute_input": "2020-11-16T06:50:00.481052Z",
     "iopub.status.busy": "2020-11-16T06:50:00.479997Z",
     "iopub.status.idle": "2020-11-16T06:50:00.754368Z",
     "shell.execute_reply": "2020-11-16T06:50:00.753805Z"
    },
    "papermill": {
     "duration": 0.463411,
     "end_time": "2020-11-16T06:50:00.754484",
     "exception": false,
     "start_time": "2020-11-16T06:50:00.291073",
     "status": "completed"
    },
    "tags": []
   },
   "outputs": [],
   "source": [
    "test_path = r'../input/test-dataset/Clouds.jpg'\n",
    "prediction(test_path)"
   ]
  },
  {
   "cell_type": "code",
   "execution_count": null,
   "metadata": {
    "execution": {
     "iopub.execute_input": "2020-11-16T06:50:01.183874Z",
     "iopub.status.busy": "2020-11-16T06:50:01.179064Z",
     "iopub.status.idle": "2020-11-16T06:50:01.318819Z",
     "shell.execute_reply": "2020-11-16T06:50:01.319492Z"
    },
    "papermill": {
     "duration": 0.357675,
     "end_time": "2020-11-16T06:50:01.319669",
     "exception": false,
     "start_time": "2020-11-16T06:50:00.961994",
     "status": "completed"
    },
    "tags": []
   },
   "outputs": [],
   "source": [
    "test_path = r'../input/test-dataset/Rainy.jpg'\n",
    "prediction(test_path)"
   ]
  },
  {
   "cell_type": "code",
   "execution_count": null,
   "metadata": {
    "execution": {
     "iopub.execute_input": "2020-11-16T06:50:01.732014Z",
     "iopub.status.busy": "2020-11-16T06:50:01.730737Z",
     "iopub.status.idle": "2020-11-16T06:50:01.916203Z",
     "shell.execute_reply": "2020-11-16T06:50:01.915507Z"
    },
    "papermill": {
     "duration": 0.380882,
     "end_time": "2020-11-16T06:50:01.916319",
     "exception": false,
     "start_time": "2020-11-16T06:50:01.535437",
     "status": "completed"
    },
    "tags": []
   },
   "outputs": [],
   "source": [
    "test_path = r'../input/test-dataset/Sunrise.jpg'\n",
    "prediction(test_path)"
   ]
  },
  {
   "cell_type": "code",
   "execution_count": null,
   "metadata": {
    "execution": {
     "iopub.execute_input": "2020-11-16T06:50:02.334314Z",
     "iopub.status.busy": "2020-11-16T06:50:02.333195Z",
     "iopub.status.idle": "2020-11-16T06:50:02.516456Z",
     "shell.execute_reply": "2020-11-16T06:50:02.517025Z"
    },
    "papermill": {
     "duration": 0.386196,
     "end_time": "2020-11-16T06:50:02.517187",
     "exception": false,
     "start_time": "2020-11-16T06:50:02.130991",
     "status": "completed"
    },
    "tags": []
   },
   "outputs": [],
   "source": [
    "test_img = r'../input/test-dataset/Clouds_2.jpg'\n",
    "prediction(test_path)"
   ]
  },
  {
   "cell_type": "markdown",
   "metadata": {
    "papermill": {
     "duration": 0.202967,
     "end_time": "2020-11-16T06:50:02.956355",
     "exception": false,
     "start_time": "2020-11-16T06:50:02.753388",
     "status": "completed"
    },
    "tags": []
   },
   "source": [
    "As can be seen , being a cloudy image , it states image is of shine , may be its due to that shiny sun , So it clearly indicates overfit ,  \n"
   ]
  },
  {
   "cell_type": "code",
   "execution_count": null,
   "metadata": {
    "execution": {
     "iopub.execute_input": "2020-11-16T06:50:03.360022Z",
     "iopub.status.busy": "2020-11-16T06:50:03.358937Z",
     "iopub.status.idle": "2020-11-16T06:50:03.363716Z",
     "shell.execute_reply": "2020-11-16T06:50:03.363149Z"
    },
    "papermill": {
     "duration": 0.211826,
     "end_time": "2020-11-16T06:50:03.363815",
     "exception": false,
     "start_time": "2020-11-16T06:50:03.151989",
     "status": "completed"
    },
    "tags": []
   },
   "outputs": [],
   "source": [
    "print('Thank You , Uploading New Version Soon')"
   ]
  }
 ],
 "metadata": {
  "interpreter": {
   "hash": "853eef70c9f49c5c2a12ed2a91d38ee9da6ad0ba946995082424ca6a989e257a"
  },
  "kernelspec": {
   "display_name": "Python 3.9.5 ('base')",
   "language": "python",
   "name": "python3"
  },
  "language_info": {
   "codemirror_mode": {
    "name": "ipython",
    "version": 3
   },
   "file_extension": ".py",
   "mimetype": "text/x-python",
   "name": "python",
   "nbconvert_exporter": "python",
   "pygments_lexer": "ipython3",
   "version": "3.9.5"
  },
  "papermill": {
   "duration": 369.031669,
   "end_time": "2020-11-16T06:50:05.170536",
   "environment_variables": {},
   "exception": null,
   "input_path": "__notebook__.ipynb",
   "output_path": "__notebook__.ipynb",
   "parameters": {},
   "start_time": "2020-11-16T06:43:56.138867",
   "version": "2.1.0"
  }
 },
 "nbformat": 4,
 "nbformat_minor": 4
}
